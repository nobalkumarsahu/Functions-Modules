{
 "cells": [
  {
   "cell_type": "code",
   "execution_count": null,
   "id": "0301bb26",
   "metadata": {},
   "outputs": [],
   "source": [
    "def funUppercase_and_Lowercase(string): #defing functions\n",
    "    count_Upper = 0 # initial character count\n",
    "    count_Lower = 0 # initial character count\n",
    "    for i in string:\n",
    "            if i >='A' and i <= 'Z': # looping for upper character from A to Z in the given string\n",
    "                count_Upper += 1     \n",
    "            elif i >= 'a' and i <= 'z': # looping for lower character from a to z in the given string\n",
    "                count_Lower += 1\n",
    "    print(\"No. of Upper case characters: \" + str(count_Upper))\n",
    "    print(\"No. of Upper case characters: \" + str(count_Lower))\n",
    "\n",
    "funUppercase_and_Lowercase(\"The quick Box Frox\") # give your string for character count"
   ]
  }
 ],
 "metadata": {
  "kernelspec": {
   "display_name": "Python 3 (ipykernel)",
   "language": "python",
   "name": "python3"
  },
  "language_info": {
   "codemirror_mode": {
    "name": "ipython",
    "version": 3
   },
   "file_extension": ".py",
   "mimetype": "text/x-python",
   "name": "python",
   "nbconvert_exporter": "python",
   "pygments_lexer": "ipython3",
   "version": "3.10.0"
  }
 },
 "nbformat": 4,
 "nbformat_minor": 5
}
